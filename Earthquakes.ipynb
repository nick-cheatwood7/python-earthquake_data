{
 "cells": [
  {
   "cell_type": "code",
   "execution_count": 1,
   "metadata": {},
   "outputs": [],
   "source": [
    "# Import libraries/data\n",
    "import numpy as np\n",
    "import pandas as pd\n",
    "import reverse_geocode\n",
    "import datetime # allows us to get current timestamp in ISO format (as used in the .csv file)\n",
    "import matplotlib.pyplot as plt"
   ]
  },
  {
   "cell_type": "code",
   "execution_count": 2,
   "metadata": {},
   "outputs": [],
   "source": [
    "# Name the data\n",
    "earthquake_data = pd.read_csv('earthquakes.csv')\n",
    "magnitude = np.array(earthquake_data['mag'])"
   ]
  },
  {
   "cell_type": "code",
   "execution_count": 3,
   "metadata": {},
   "outputs": [
    {
     "name": "stdout",
     "output_type": "stream",
     "text": [
      "current: 2021-02-14T06:56:44.827\n"
     ]
    }
   ],
   "source": [
    "# Create a report on all earthquakes that occurred globally in the past 30 days\n",
    "\n",
    "# None occurred in the past 30 days, so test 1 year and 30 days ago ( 01/14/2020 )\n",
    "\n",
    "# Get current timestamp\n",
    "current = datetime.datetime.utcnow().replace().isoformat()[:-3] # converts to string, but will fix later\n",
    "print('current:',current)\n",
    "\n",
    "df = pd.DataFrame(earthquake_data) # time is in form '2020-04-10T20:21:18.360Z'\n",
    "past30Data = df.loc[df['time'] > '2020-01-14T00:00:00.000Z', ['mag','magType','longitude','latitude', \"time\"]].to_numpy()\n",
    "# [ 0: mag, 1: magType, 2: longitude, 3: latitude, 4: time]\n",
    "\n",
    "# Turn into dictionary\n",
    "past30DataArr = []\n",
    "c = 0\n",
    "\n",
    "for row in past30Data:\n",
    "    # for each row in the array\n",
    "    col_data = {\n",
    "            \"mag\": row[0],\n",
    "            \"magType\": row[1],\n",
    "            \"lon\": row[2],\n",
    "            \"lat\": row[3],\n",
    "            \"time\": row[4]\n",
    "    }\n",
    "    \n",
    "    # append to array\n",
    "    past30DataArr.append(col_data)"
   ]
  },
  {
   "cell_type": "code",
   "execution_count": 4,
   "metadata": {},
   "outputs": [
    {
     "name": "stdout",
     "output_type": "stream",
     "text": [
      "Basic stats: {'max': 5.9, 'min': 2.45, 'median': 2.9, 'mean': 3.259553752535497, '25Perc': 2.64, '75Perc': 3.7}\n"
     ]
    }
   ],
   "source": [
    "# Compute basic stats on the magnitude: max, min, median, mean, and 25th and 75th percentiles\n",
    "\n",
    "# Extract all magnitudes from the filtered data\n",
    "mag_data_arr = []\n",
    "\n",
    "for i in past30DataArr: \n",
    "    mag_data_arr.append(i.get(\"mag\"))\n",
    "\n",
    "magMax = np.nanmax(mag_data_arr)\n",
    "magMin = np.nanmin(mag_data_arr)\n",
    "magMed = np.nanmedian(mag_data_arr)\n",
    "magMean = np.nanmean(mag_data_arr)\n",
    "mag25 = np.nanpercentile(mag_data_arr,25)\n",
    "mag75 = np.nanpercentile(mag_data_arr, 75)\n",
    "\n",
    "basic_stats = {\n",
    "    \"max\": magMax,\n",
    "    \"min\": magMin,\n",
    "    \"median\": magMed,\n",
    "    \"mean\": magMean,\n",
    "    \"25Perc\": mag25,\n",
    "    \"75Perc\": mag75\n",
    "}\n",
    "\n",
    "print(\"Basic stats:\",basic_stats)"
   ]
  },
  {
   "cell_type": "code",
   "execution_count": 5,
   "metadata": {},
   "outputs": [
    {
     "name": "stdout",
     "output_type": "stream",
     "text": [
      "Average where the type is ml: 2.8317977528089893\n"
     ]
    }
   ],
   "source": [
    "# Average magnitude where type is ml\n",
    "\n",
    "def getAverageMagnitudeForType(type, arr):\n",
    "    typeValues = []\n",
    "    avg = 0\n",
    "    for data in arr:\n",
    "        # for each dict in the data arr\n",
    "        if ( data.get(\"magType\") == type ):\n",
    "            typeValues.append(data.get(\"mag\"))\n",
    "    \n",
    "    avg = sum(typeValues) / len(typeValues)\n",
    "    return avg\n",
    "    \n",
    "avgTypeML = getAverageMagnitudeForType(\"ml\", past30DataArr)\n",
    "print(\"Average where the type is ml:\", avgTypeML)"
   ]
  },
  {
   "cell_type": "code",
   "execution_count": 6,
   "metadata": {},
   "outputs": [
    {
     "name": "stdout",
     "output_type": "stream",
     "text": [
      "With Location Data: [{'dateTime': '2020-04-10T16:44:55.531Z', 'lat': 20.4267, 'lon': 122.1198, 'mag': 5.9, 'location': [{'country_code': 'PH', 'city': 'Basco', 'country': 'Philippines'}]}, {'dateTime': '2020-04-05T18:37:10.487Z', 'lat': 1.4007, 'lon': 126.4427, 'mag': 5.9, 'location': [{'country_code': 'ID', 'city': 'Susupu', 'country': 'Indonesia'}]}]\n"
     ]
    }
   ],
   "source": [
    "# Date and location of the largest magnitude\n",
    "\n",
    "def getDataOfLargestMagnitude(arr):\n",
    "    \n",
    "    data = []\n",
    "    largestMag = 0\n",
    "    \n",
    "    # get the largest mag\n",
    "    for obj in arr:\n",
    "        # loop through dicts in array\n",
    "        if ( obj.get(\"mag\") >= largestMag ):\n",
    "            largestMag = obj.get(\"mag\")\n",
    "            \n",
    "    # return data for largest mag\n",
    "    for obj in arr:\n",
    "        if ( obj.get(\"mag\") == largestMag ):\n",
    "            this_data = {\n",
    "                \"dateTime\": obj.get(\"time\"),\n",
    "                \"lat\": obj.get(\"lat\"),\n",
    "                \"lon\": obj.get(\"lon\"),\n",
    "                \"mag\": obj.get(\"mag\")\n",
    "            }\n",
    "            data.append(this_data)\n",
    "            \n",
    "    return data   \n",
    "\n",
    "largestData = getDataOfLargestMagnitude(past30DataArr)\n",
    "\n",
    "# print(\"Largest Magnitude Date and Coords:\", largestData)\n",
    "\n",
    "def appendLocationData(arr):\n",
    "    \n",
    "    newArr = arr.copy()\n",
    "    \n",
    "    for i in newArr: # for index in array\n",
    "        # get longitude and latitude\n",
    "        loc_coords = ( i.get(\"lat\") , i.get(\"lon\") ), # Requires ',' on the end ???\n",
    "        # print(\"Coords:\", loc_coords)\n",
    "        # convert to location data\n",
    "        loc_data = reverse_geocode.search(loc_coords)\n",
    "        # loc_data = ''\n",
    "        # append to array\n",
    "        i.update({'location': loc_data})\n",
    "        \n",
    "    return newArr\n",
    "        \n",
    "#rgTestCoords = ( -37.81, 144.96 )\n",
    "\n",
    "#print(type(rgTestCoords))\n",
    "\n",
    "# print(reverse_geocode.search(rgTestCoords))\n",
    "\n",
    "largestDataWithLocation = appendLocationData(largestData)\n",
    "print(\"With Location Data:\", largestDataWithLocation)\n",
    "\n",
    "# Can we get only 'country code'?\n",
    "# largestDataWithLocation[0].get('location')[0].get('country_code')"
   ]
  },
  {
   "cell_type": "code",
   "execution_count": 7,
   "metadata": {},
   "outputs": [
    {
     "data": {
      "text/plain": [
       "Text(0.5, 0, 'Magnitude')"
      ]
     },
     "execution_count": 7,
     "metadata": {},
     "output_type": "execute_result"
    },
    {
     "data": {
      "image/png": "[encoded data removed]",
      "text/plain": [
       "<Figure size 432x288 with 1 Axes>"
      ]
     },
     "metadata": {
      "needs_background": "light"
     },
     "output_type": "display_data"
    }
   ],
   "source": [
    "# Plot significant earthquakes (mag 4.5+) in a histogram\n",
    "\n",
    "def getSignificantEarthquakes(arr):\n",
    "    # init array\n",
    "    sigMags = []\n",
    "    for i in arr:\n",
    "        if ( i.get('mag') >= 4.5):\n",
    "            sigMags.append(i.get('mag'))\n",
    "            \n",
    "    return sigMags\n",
    "\n",
    "significantRecords = getSignificantEarthquakes(past30DataArr)\n",
    "# print(significantRecords)\n",
    "\n",
    "x = significantRecords\n",
    "\n",
    "plt.hist(x, density=True, bins=30)\n",
    "plt.ylabel('Frequency')\n",
    "plt.xlabel('Magnitude')"
   ]
  },
  {
   "cell_type": "code",
   "execution_count": 8,
   "metadata": {},
   "outputs": [
    {
     "data": {
      "text/plain": [
       "Text(0.5, 0, 'Magnitude')"
      ]
     },
     "execution_count": 8,
     "metadata": {},
     "output_type": "execute_result"
    },
    {
     "data": {
      "image/png": "[encoded data removed]",
      "text/plain": [
       "<Figure size 432x288 with 1 Axes>"
      ]
     },
     "metadata": {
      "needs_background": "light"
     },
     "output_type": "display_data"
    }
   ],
   "source": [
    "# Plot a histogram of only earthquakes that occurred in the US\n",
    "\n",
    "# Read through all data and append location data\n",
    "data_with_location = appendLocationData(past30DataArr)\n",
    "\n",
    "# print(data_with_location)\n",
    "\n",
    "# Read through each an add only those in the US to an array\n",
    "def getDataForCountry(country_code, arr):\n",
    "    # Init a fresh array\n",
    "    magArr = []\n",
    "    for i in arr:\n",
    "        code = i.get('location')[0].get('country_code')\n",
    "        if ( code == country_code ):\n",
    "            magArr.append(i.get('mag'))\n",
    "            \n",
    "    \n",
    "    return magArr\n",
    "\n",
    "\n",
    "us_data = getDataForCountry('US', data_with_location)\n",
    "# print(us_data)\n",
    "\n",
    "x = us_data\n",
    "\n",
    "plt.hist(x, density=True, bins=30)\n",
    "plt.ylabel('Frequency')\n",
    "plt.xlabel('Magnitude')"
   ]
  },
  {
   "cell_type": "code",
   "execution_count": null,
   "metadata": {},
   "outputs": [],
   "source": []
  }
 ],
 "metadata": {
  "kernelspec": {
   "display_name": "Python 3",
   "language": "python",
   "name": "python3"
  },
  "language_info": {
   "codemirror_mode": {
    "name": "ipython",
    "version": 3
   },
   "file_extension": ".py",
   "mimetype": "text/x-python",
   "name": "python",
   "nbconvert_exporter": "python",
   "pygments_lexer": "ipython3",
   "version": "3.8.5"
  }
 },
 "nbformat": 4,
 "nbformat_minor": 4
}
